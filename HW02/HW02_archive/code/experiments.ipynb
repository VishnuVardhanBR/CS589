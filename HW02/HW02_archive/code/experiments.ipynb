{
  "cells": [
    {
      "cell_type": "code",
      "execution_count": 2,
      "metadata": {
        "colab": {
          "base_uri": "https://localhost:8080/"
        },
        "id": "tV7JHK0Zv53s",
        "outputId": "62affd97-2343-4d3f-b537-7cb7d0e436f7"
      },
      "outputs": [],
      "source": [
        "#Check if running on google colab and if so, install needed packages\n",
        "try:\n",
        "    import google.colab\n",
        "    running_on_colab = True\n",
        "except ImportError:\n",
        "    running_on_colab = False\n",
        "\n",
        "if(running_on_colab):\n",
        "    ! wget https://raw.githubusercontent.com/reml-lab/MLDemos/refs/heads/main/BasicMLP.py\n",
        "    ! pip install matplotlib\n",
        "    ! pip install pandas\n",
        "    ! pip install numpy\n",
        "    ! pip install -U scikit-learn\n",
        "    ! pip install ucimlrepo\n"
      ]
    },
    {
      "cell_type": "code",
      "execution_count": 3,
      "metadata": {
        "id": "i5-HX290wT7m"
      },
      "outputs": [],
      "source": [
        "try:\n",
        "    import numpy as np\n",
        "    from BasicMLP import BasicMLP\n",
        "    import matplotlib.pyplot as plt\n",
        "    import sklearn\n",
        "    from sklearn.preprocessing import StandardScaler\n",
        "    from sklearn.neighbors import KNeighborsClassifier\n",
        "    from ucimlrepo import fetch_ucirepo\n",
        "except Exception as e:\n",
        "    print(\"Failed to import needed packages.\")\n",
        "    print(\"If running on Colab, plase make sure to run the cell above to install packages.\")\n",
        "    print(\"If running locally, please run: pip install -r requirement.txt to install dependencies.\")"
      ]
    },
    {
      "cell_type": "markdown",
      "metadata": {
        "id": "X50_aggMwFo1"
      },
      "source": [
        "# **Data Download and Preprocessing**"
      ]
    },
    {
      "cell_type": "code",
      "execution_count": 1,
      "metadata": {
        "id": "8ARkXLjXv-0X"
      },
      "outputs": [
        {
          "ename": "NameError",
          "evalue": "name 'fetch_ucirepo' is not defined",
          "output_type": "error",
          "traceback": [
            "\u001b[31m---------------------------------------------------------------------------\u001b[39m",
            "\u001b[31mNameError\u001b[39m                                 Traceback (most recent call last)",
            "\u001b[36mCell\u001b[39m\u001b[36m \u001b[39m\u001b[32mIn[1]\u001b[39m\u001b[32m, line 7\u001b[39m\n\u001b[32m      4\u001b[39m     \u001b[38;5;28;01mreturn\u001b[39;00m X_train, X_vali, X_test, y_train, y_vali, y_test\n\u001b[32m      6\u001b[39m \u001b[38;5;66;03m# fetch dataset\u001b[39;00m\n\u001b[32m----> \u001b[39m\u001b[32m7\u001b[39m dataset = \u001b[43mfetch_ucirepo\u001b[49m(\u001b[38;5;28mid\u001b[39m=\u001b[32m545\u001b[39m)\n\u001b[32m      9\u001b[39m \u001b[38;5;66;03m# data (as pandas dataframes)\u001b[39;00m\n\u001b[32m     10\u001b[39m X = dataset.data.features.to_numpy()\n",
            "\u001b[31mNameError\u001b[39m: name 'fetch_ucirepo' is not defined"
          ]
        }
      ],
      "source": [
        "def stratified_data_split(vali_ratio, test_ratio, X, y):\n",
        "    X_train, X_test, y_train, y_test = sklearn.model_selection.train_test_split(X,y,test_size=test_ratio, stratify=y,random_state=589)\n",
        "    X_train, X_vali, y_train, y_vali = sklearn.model_selection.train_test_split(X_train,y_train,test_size=vali_ratio, stratify=y_train, random_state=589)\n",
        "    return X_train, X_vali, X_test, y_train, y_vali, y_test\n",
        "\n",
        "# fetch dataset\n",
        "dataset = fetch_ucirepo(id=545)\n",
        "\n",
        "# data (as pandas dataframes)\n",
        "X = dataset.data.features.to_numpy()\n",
        "y = dataset.data.targets.to_numpy().reshape(-1,)\n",
        "\n",
        "X_train, X_val, X_test, y_train, y_val, y_test = stratified_data_split(0.2, 0.2, X,y)\n"
      ]
    },
    {
      "cell_type": "markdown",
      "metadata": {
        "id": "8JnFUpe2zbIx"
      },
      "source": [
        "# **KNN Experiments**"
      ]
    },
    {
      "cell_type": "markdown",
      "metadata": {
        "id": "DKu8czu4evkM"
      },
      "source": [
        "## **Q6.a** Train a KNN classifier with K=5"
      ]
    },
    {
      "cell_type": "code",
      "execution_count": 3,
      "metadata": {
        "id": "7g-OOZT43o7y"
      },
      "outputs": [
        {
          "ename": "NameError",
          "evalue": "name 'KNeighborsClassifier' is not defined",
          "output_type": "error",
          "traceback": [
            "\u001b[31m---------------------------------------------------------------------------\u001b[39m",
            "\u001b[31mNameError\u001b[39m                                 Traceback (most recent call last)",
            "\u001b[36mCell\u001b[39m\u001b[36m \u001b[39m\u001b[32mIn[3]\u001b[39m\u001b[32m, line 1\u001b[39m\n\u001b[32m----> \u001b[39m\u001b[32m1\u001b[39m knn = \u001b[43mKNeighborsClassifier\u001b[49m(n_neighbors=\u001b[32m5\u001b[39m)\n\u001b[32m      2\u001b[39m knn.fit(X_train, y_train)\n",
            "\u001b[31mNameError\u001b[39m: name 'KNeighborsClassifier' is not defined"
          ]
        }
      ],
      "source": [
        "import \n",
        "\n",
        "knn = KNeighborsClassifier(n_neighbors=5)\n",
        "knn.fit(X_train, y_train)"
      ]
    },
    {
      "cell_type": "markdown",
      "metadata": {
        "id": "B6HDyChy3nX2"
      },
      "source": [
        "## **Q6.b** Compute train and validation error rate for values of K from 1 to 150."
      ]
    },
    {
      "cell_type": "code",
      "execution_count": 5,
      "metadata": {
        "id": "S4IHndikQaB7"
      },
      "outputs": [],
      "source": [
        "#Add your solution code here"
      ]
    },
    {
      "cell_type": "markdown",
      "metadata": {},
      "source": [
        "## **Q6.c** Determine the optimal value of K and compute error rates"
      ]
    },
    {
      "cell_type": "code",
      "execution_count": 6,
      "metadata": {
        "id": "VtmJO4ixQCsv"
      },
      "outputs": [],
      "source": [
        "#Add your solution code here"
      ]
    },
    {
      "cell_type": "markdown",
      "metadata": {
        "id": "nhZIZ54StdVS"
      },
      "source": [
        "## **Q6.d** Repeat (a)-(c) after applying the StandardScalar to normalize the data."
      ]
    },
    {
      "cell_type": "code",
      "execution_count": 7,
      "metadata": {
        "id": "DMegIPeb3mb0"
      },
      "outputs": [],
      "source": [
        "# Initialize the StandardScaler\n",
        "scaler = StandardScaler()\n",
        "scaler.fit(X_train)\n",
        "X_train_norm = scaler.transform(X_train)\n",
        "#Continue the solution below..."
      ]
    },
    {
      "cell_type": "markdown",
      "metadata": {
        "id": "sEWov5kU5-Za"
      },
      "source": [
        "# **Multi Layer Perceptron Experiments**"
      ]
    },
    {
      "cell_type": "markdown",
      "metadata": {
        "id": "2v8ef_Ckt3fr"
      },
      "source": [
        "## **Q6.e** Training basic MLP classifier"
      ]
    },
    {
      "cell_type": "code",
      "execution_count": 8,
      "metadata": {
        "id": "6AGXRpUgzI9c"
      },
      "outputs": [],
      "source": [
        "#Add your solution code here"
      ]
    },
    {
      "cell_type": "markdown",
      "metadata": {
        "id": "4oECEUabuRQE"
      },
      "source": [
        "## **Q6.f** Compute train and validation error rates with different hidden unit sizes"
      ]
    },
    {
      "cell_type": "code",
      "execution_count": 9,
      "metadata": {
        "id": "ThjY33pMyrlh"
      },
      "outputs": [],
      "source": [
        "#Add your solution code here"
      ]
    },
    {
      "cell_type": "markdown",
      "metadata": {},
      "source": [
        "## **Q6.g** Determine the optimal number of hidden units and compute error rates"
      ]
    },
    {
      "cell_type": "code",
      "execution_count": 10,
      "metadata": {},
      "outputs": [],
      "source": [
        "#Add your solution code here"
      ]
    },
    {
      "cell_type": "markdown",
      "metadata": {
        "id": "BYGPgjlYlz1K"
      },
      "source": [
        "## **Q6.h** Effect of maximum number of iterations"
      ]
    },
    {
      "cell_type": "code",
      "execution_count": 11,
      "metadata": {
        "id": "_YfwaDIPnVgB"
      },
      "outputs": [],
      "source": [
        "#Add your solution code here"
      ]
    }
  ],
  "metadata": {
    "colab": {
      "provenance": []
    },
    "kernelspec": {
      "display_name": "689",
      "language": "python",
      "name": "python3"
    },
    "language_info": {
      "codemirror_mode": {
        "name": "ipython",
        "version": 3
      },
      "file_extension": ".py",
      "mimetype": "text/x-python",
      "name": "python",
      "nbconvert_exporter": "python",
      "pygments_lexer": "ipython3",
      "version": "3.11.0"
    }
  },
  "nbformat": 4,
  "nbformat_minor": 0
}
